{
 "cells": [
  {
   "cell_type": "code",
   "execution_count": null,
   "id": "897d79c6",
   "metadata": {},
   "outputs": [],
   "source": [
    "import os\n",
    "import sys\n",
    "import csv\n",
    "import numpy as np\n",
    "import gurobipy as gp\n",
    "import matplotlib.pyplot as plt\n",
    "from time import perf_counter as timer\n",
    "\n",
    "# sys.path.append(os.path.abspath(\"./src\"))\n",
    "from thermal import Thermal\n",
    "from renewable import Renewable\n",
    "from demand import Demand\n",
    "from commitment import Commitment\n",
    "from data import Data"
   ]
  },
  {
   "cell_type": "code",
   "execution_count": 2,
   "id": "6f89ea0c",
   "metadata": {},
   "outputs": [],
   "source": [
    "thermal = Thermal()\n",
    "renewable = Renewable()\n",
    "demand = Demand()\n",
    "commitment = Commitment()\n",
    "data = Data()\n",
    "\n",
    "data.load_thermal(thermal)\n",
    "data.load_renewable_capacity(renewable)\n",
    "data.load_renewable_generation(renewable)\n",
    "data.load_demand(demand)\n",
    "data.load_commitment_decision(commitment)"
   ]
  },
  {
   "cell_type": "code",
   "execution_count": 3,
   "id": "526c54ac",
   "metadata": {},
   "outputs": [
    {
     "data": {
      "text/plain": [
       "array([ True,  True,  True,  True,  True,  True,  True,  True,  True,\n",
       "        True,  True, False, False,  True, False,  True,  True,  True,\n",
       "        True,  True,  True,  True, False,  True,  True,  True, False,\n",
       "       False,  True,  True,  True,  True,  True,  True,  True, False,\n",
       "        True,  True,  True,  True,  True,  True,  True,  True,  True,\n",
       "       False,  True,  True,  True,  True,  True,  True,  True,  True,\n",
       "        True,  True,  True,  True,  True,  True, False,  True,  True,\n",
       "        True,  True,  True,  True,  True, False,  True,  True,  True,\n",
       "        True,  True,  True,  True,  True,  True,  True,  True,  True,\n",
       "        True,  True,  True,  True,  True,  True,  True, False,  True,\n",
       "        True, False,  True,  True,  True,  True,  True,  True,  True,\n",
       "        True,  True, False,  True,  True,  True,  True, False, False,\n",
       "        True,  True,  True,  True,  True,  True,  True, False, False,\n",
       "        True, False,  True, False,  True])"
      ]
     },
     "execution_count": 3,
     "metadata": {},
     "output_type": "execute_result"
    }
   ],
   "source": [
    "commitment.decision[0] # hourly\n"
   ]
  }
 ],
 "metadata": {
  "kernelspec": {
   "display_name": "base",
   "language": "python",
   "name": "python3"
  },
  "language_info": {
   "codemirror_mode": {
    "name": "ipython",
    "version": 3
   },
   "file_extension": ".py",
   "mimetype": "text/x-python",
   "name": "python",
   "nbconvert_exporter": "python",
   "pygments_lexer": "ipython3",
   "version": "3.12.2"
  }
 },
 "nbformat": 4,
 "nbformat_minor": 5
}
