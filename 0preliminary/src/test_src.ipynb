{
 "cells": [
  {
   "cell_type": "code",
   "execution_count": 7,
   "id": "f46a361d",
   "metadata": {},
   "outputs": [],
   "source": [
    "import os\n",
    "import gc\n",
    "import csv\n",
    "import scipy.io\n",
    "import numpy as np\n",
    "import cvxpy as cp\n",
    "import matplotlib.pyplot as plt"
   ]
  },
  {
   "cell_type": "code",
   "execution_count": 8,
   "id": "751f2738",
   "metadata": {},
   "outputs": [],
   "source": [
    "class Basics:\n",
    "    def __init__(self):\n",
    "        self.getcwd = os.getcwd()\n",
    "        self.dotcsv = \".csv\"\n",
    "\n",
    "    def Get_path_files(self, subfolder1, subfolder2):\n",
    "        path_folder = self.getcwd.split(\"src\")[0] + f\"data/inputs/{subfolder1}/{subfolder2}_\"\n",
    "        path_files = [(path_folder + f\"{i}\" + self.dotcsv) for i in range(1, 366)]\n",
    "        return path_files"
   ]
  },
  {
   "cell_type": "code",
   "execution_count": 9,
   "id": "b0a8ea8f",
   "metadata": {},
   "outputs": [],
   "source": [
    "basics = Basics()"
   ]
  },
  {
   "cell_type": "code",
   "execution_count": 10,
   "id": "a3ad27ca",
   "metadata": {},
   "outputs": [],
   "source": [
    "def Get_gen_data(basics=basics):\n",
    "    data_raw_gen = scipy.io.loadmat(f\"{basics.getcwd}/../data/inputs/KPG193_ver1_2.mat\")\n",
    "    gen_count = 122\n",
    "\n",
    "    # generator data - ordered by generatior id\n",
    "    # unit: MW\n",
    "    # ignoring status; following list is the number of hours in the year for the 15 killed generators to be committed again in the year\n",
    "    # [47, 4, 10, 45, 576, 744, 4440, 7416, 3336, 14, 92, 32, 3, 315, 45]\n",
    "    # it was included in the UC at least; enough reason to ignore status\n",
    "    gen_data = data_raw_gen[\"mpc\"][0, 0][\"gen\"][:, [8, 9]]\n",
    "    gen_pmax = gen_data[:, 0]\n",
    "    gen_pmin = gen_data[:, 1]\n",
    "\n",
    "    # generator cost function - ordered by generatior id\n",
    "    # unit: 1,000 KRW and MWh\n",
    "    gencost_data = data_raw_gen[\"mpc\"][0, 0][\"gencost\"][:, 4:]\n",
    "    gencost_c2 = gencost_data[:, 0]\n",
    "    gencost_c1 = gencost_data[:, 1]\n",
    "    gencost_c0 = gencost_data[:, 2]\n",
    "\n",
    "    # generator unit types - ordered by generatior id\n",
    "    gentypes = np.array([0, 0, 0, 1, 0, 0, 0, 1, 1, 0, 0, 1, 1, 1, 1, 0, 0, 0, 0, 0, 1, 1, 1, 1, 1, 1, 1, 1, 1, 1, 1, 1, 1, 1, 1, 1, 1, 0, 0, 0, 0, 0, 0, 0, 0, 2, 2, 2, 2, 2, 2, 2, 1, 1, 1, 1, 0, 0, 2, 2, 2, 2, 2, 2, 2, 2, 2, 2, 2, 1, 0, 0, 0, 0, 0, 0, 1, 1, 1, 0, 0, 0, 0, 0, 1, 1, 1, 0, 1, 0, 0, 0, 0, 0, 0, 2, 2, 2, 2, 2, 1, 1, 1, 2, 2, 1, 1, 1, 1, 1, 1, 1, 1, 1, 1, 1, 1, 1, 1, 1, 1, 1])\n",
    "    gentypes_description = {0: \"Coal\", 1: \"LNG\", 2: \"Nuclear\"}\n",
    "    gentypes_colors = np.array([[1, 0, 0], [0, 0, 1], [0, 1, 0]])[gentypes] # red; blue; green\n",
    "    idx_gen_coal = np.where(gentypes == 0)[0]\n",
    "    idx_gen_lng = np.where(gentypes == 1)[0]\n",
    "    idx_gen_nuclear = np.where(gentypes == 2)[0]\n",
    "\n",
    "    return gen_count, gen_pmax, gen_pmin, gencost_c2, gencost_c1, gencost_c0, gentypes, gentypes_description, gentypes_colors, idx_gen_coal, idx_gen_lng, idx_gen_nuclear, "
   ]
  },
  {
   "cell_type": "code",
   "execution_count": 11,
   "id": "44ca54ad",
   "metadata": {},
   "outputs": [],
   "source": [
    "gen_count, gen_pmax, gen_pmin, gencost_c2, gencost_c1, gencost_c0, gentypes, gentypes_description, gentypes_colors, idx_gen_coal, idx_gen_lng, idx_gen_nuclear = Get_gen_data()"
   ]
  },
  {
   "cell_type": "code",
   "execution_count": 12,
   "id": "7dea5a17",
   "metadata": {},
   "outputs": [],
   "source": [
    "def Get_demands(basics=basics):\n",
    "    demands = []\n",
    "    for path_file in basics.Get_path_files(\"demand\", \"daily_demand\"):\n",
    "        with open(path_file) as csvfile:\n",
    "            data = np.array([row for row in csv.reader(csvfile)])[1:, :-1].astype(float) # len(data) == 197 * 24 == 4728 for all csv files\n",
    "            demands.append([data[data[:, 0] == hour][:, -1].sum() for hour in range(1, 25)])\n",
    "\n",
    "    return np.array(demands).reshape(-1) # demands; len(demands) == 365 * 24 == 8760"
   ]
  },
  {
   "cell_type": "code",
   "execution_count": 13,
   "id": "4ae53442",
   "metadata": {},
   "outputs": [],
   "source": [
    "total_demands = Get_demands() "
   ]
  },
  {
   "cell_type": "code",
   "execution_count": 14,
   "id": "900b574d",
   "metadata": {},
   "outputs": [],
   "source": [
    "def Get_renewable_capacity(basics=basics):\n",
    "    with open(basics.getcwd.split(\"src\")[0] + \"data/inputs/renewables_capacity/solar_generators_2022.csv\") as f:\n",
    "        data_raw_solar = np.array([row for row in csv.reader(f)])[1:, [0, 2]].astype(float)\n",
    "    data_solar = np.zeros(197)\n",
    "    data_solar[data_raw_solar[:, 0].astype(int) - 1] = data_raw_solar[:, 1] # missing 4 bus id covered with 0 (bus number unified as 197 as indicated in the demand)\n",
    "\n",
    "    with open(basics.getcwd.split(\"src\")[0] + f\"data/inputs/renewables_capacity/wind_generators_2022.csv\") as csvfile:\n",
    "        data_raw_wind = np.array([row for row in csv.reader(csvfile)])[1:, [0, 2]].astype(float) # bus id ordered pmax, pmin is all 0; ignore\n",
    "    data_wind = np.zeros(197)\n",
    "    data_wind[data_raw_wind[:, 0].astype(int) - 1] = data_raw_wind[:, 1] # missing 4 bus id covered with 0 (bus number unified as 197 as indicated in the demand)\n",
    "\n",
    "    with open(basics.getcwd.split(\"src\")[0] + f\"data/inputs/renewables_capacity/hydro_generators_2022.csv\") as csvfile:\n",
    "        data_hydro = np.array([row for row in csv.reader(csvfile)])[1:, 2].astype(float)\n",
    "\n",
    "    return np.column_stack([data_solar, data_wind, data_hydro]) # renewable_capacity"
   ]
  },
  {
   "cell_type": "code",
   "execution_count": 15,
   "id": "440eee2d",
   "metadata": {},
   "outputs": [],
   "source": [
    "renewable_capacity = Get_renewable_capacity()"
   ]
  },
  {
   "cell_type": "code",
   "execution_count": 16,
   "id": "5dcbc807",
   "metadata": {},
   "outputs": [],
   "source": [
    "def Get_renewable_generation(basics=basics, renewable_capacity=renewable_capacity):\n",
    "    renewable_capacity_24_repeat = np.repeat(renewable_capacity, 24, axis=0)\n",
    "    renewable_generation = np.zeros(24 * 365)\n",
    "    idx_hour = 0\n",
    "\n",
    "    for path_file in basics.Get_path_files(\"renewables\", \"renewables\"): # hour, busid, solar, wind, hydro\n",
    "        # DAILY PROFILE RATIO\n",
    "        with open(path_file) as csvfile:\n",
    "            reader = csv.reader(csvfile)\n",
    "            next(reader)\n",
    "            data_raw_reg_ratio = np.array([[float(cell.strip()) if cell.strip() else 0.0 for cell in row] for row in reader]) # some bad rows (pv ratio has nothing) - covererd\n",
    "            # H1, BUS1 / H2, BUS1 / H3, BUS3/ ...\n",
    "            # just really messy code but logic is correct and gpt doesn't work only 5 sec and correct hourly reg...\n",
    "            # also i might do something with REG for ppt images and this loop structure favors future amandments but i have 36hrs left\n",
    "            reg_per_hour_bus = (data_raw_reg_ratio[:, 2:] * renewable_capacity_24_repeat).sum(axis=1)\n",
    "            hours = data_raw_reg_ratio[:, 0]\n",
    "            for hour_incremental in range(1, 25):\n",
    "                for hour, reg in zip(hours, reg_per_hour_bus):\n",
    "                    if hour == hour_incremental:\n",
    "                        renewable_generation[idx_hour] += reg\n",
    "                idx_hour += 1\n",
    "\n",
    "    return renewable_generation"
   ]
  },
  {
   "cell_type": "code",
   "execution_count": 17,
   "id": "12eda738",
   "metadata": {},
   "outputs": [],
   "source": [
    "renewable_generation = Get_renewable_generation()\n",
    "demands = total_demands - renewable_generation # demands is now hourly demand to be fulfilled by thermal generators"
   ]
  },
  {
   "cell_type": "code",
   "execution_count": 28,
   "id": "2397344a",
   "metadata": {},
   "outputs": [],
   "source": [
    "def Get_commitmnets_matrix(basics=basics):\n",
    "    matrix_for_zeroindexing = np.stack((np.ones(2928), np.ones(2928), np.zeros(2928)), axis=1).astype(int) # for data from the whole csv file\n",
    "    commitments_matrix = np.zeros((365 * 24, 122), dtype=bool)\n",
    "\n",
    "    for day, path_file in enumerate(basics.Get_path_files(\"commitment_decision\", \"commitment_decision\")):\n",
    "        # DAILY\n",
    "        with open(path_file) as csvfile:\n",
    "            reader = csv.reader(csvfile)\n",
    "            data = np.array([row for row in reader][1:], dtype=int) # all correct len\n",
    "            data -= matrix_for_zeroindexing # idk if this is still needed zeroindexing of busid\n",
    "\n",
    "        for hour in range(0, 24): # 0-index hour\n",
    "            commitments_matrix[(day * 24 + hour)] = data[(122 * hour):(122 * (hour + 1))][:, -1].reshape(-1).astype(bool) # checked by another primitive method\n",
    "    \n",
    "    return commitments_matrix"
   ]
  },
  {
   "cell_type": "code",
   "execution_count": 29,
   "id": "3c866378",
   "metadata": {},
   "outputs": [],
   "source": [
    "commitments_matrix = Get_commitmnets_matrix()"
   ]
  },
  {
   "cell_type": "code",
   "execution_count": 30,
   "id": "ac5401d4",
   "metadata": {},
   "outputs": [
    {
     "data": {
      "text/plain": [
       "array([[ True,  True,  True, ...,  True, False,  True],\n",
       "       [ True,  True,  True, ...,  True, False,  True],\n",
       "       [ True,  True,  True, ...,  True, False,  True],\n",
       "       ...,\n",
       "       [ True,  True,  True, ...,  True, False,  True],\n",
       "       [ True,  True,  True, ...,  True, False,  True],\n",
       "       [ True,  True,  True, ...,  True, False,  True]])"
      ]
     },
     "execution_count": 30,
     "metadata": {},
     "output_type": "execute_result"
    }
   ],
   "source": [
    "commitments_matrix"
   ]
  },
  {
   "cell_type": "markdown",
   "id": "2c162ea7",
   "metadata": {},
   "source": [
    "---\n",
    "---\n",
    "---"
   ]
  },
  {
   "cell_type": "code",
   "execution_count": null,
   "id": "de2a71fa",
   "metadata": {},
   "outputs": [],
   "source": [
    "def Compute_smp(idx_hour):\n",
    "    status = 0\n",
    "    commitments = commitments_matrix[idx_hour]\n",
    "\n",
    "    # so sorry for the garbage codde \n",
    "    gen_count_smp = commitments.sum()\n",
    "    gen_pmax_smp = gen_pmax[commitments]\n",
    "    gen_pmin_smp = gen_pmin[commitments]\n",
    "    gencost_c2_smp = gencost_c2[commitments]\n",
    "    gencost_c1_smp = gencost_c1[commitments]\n",
    "    gencost_c0_smp = gencost_c0[commitments]\n",
    "\n",
    "    demand = demands[idx_hour] # MWh\n",
    "    if not (demand >= gen_pmin_smp.sum()):\n",
    "        status = -1\n",
    "        return status, np.nan, np.nan\n",
    "    if not (demand <= gen_pmax_smp.sum()):\n",
    "        status = -2\n",
    "        return status, np.nan, np.nan\n",
    "\n",
    "\n",
    "    gen_power = cp.Variable(gen_count_smp)\n",
    "    objective_function = cp.sum(cp.multiply(gencost_c2_smp, cp.square(gen_power)) + cp.multiply(gencost_c1_smp, gen_power) + gencost_c0_smp)\n",
    "    objective = cp.Minimize(objective_function)\n",
    "    constraints = [\n",
    "        gen_power >= gen_pmin_smp, \n",
    "        gen_power <= gen_pmax_smp,\n",
    "        cp.sum(gen_power) == demand,\n",
    "    ]\n",
    "    problem = cp.Problem(objective, constraints)\n",
    "    problem.solve(solver=cp.OSQP)\n",
    "\n",
    "\n",
    "    smp = -constraints[-1].dual_value # 1 $ / kWh = 1000 krw / kWh (according to m file from KPG)\n",
    "    error_p_equality_constraint = abs(gen_power.value.sum() - demand) / demand * 100\n",
    "\n",
    "    return status, smp, error_p_equality_constraint"
   ]
  },
  {
   "cell_type": "code",
   "execution_count": null,
   "id": "65e226ef",
   "metadata": {},
   "outputs": [],
   "source": [
    "results = []\n",
    "for idx_hour in range(0, 8760): # 365 * 24\n",
    "    results.append(Compute_smp(idx_hour))\n",
    "results = np.array(results) # 183 status -1, 8570 out of 8760 were feasible"
   ]
  }
 ],
 "metadata": {
  "kernelspec": {
   "display_name": "base",
   "language": "python",
   "name": "python3"
  },
  "language_info": {
   "codemirror_mode": {
    "name": "ipython",
    "version": 3
   },
   "file_extension": ".py",
   "mimetype": "text/x-python",
   "name": "python",
   "nbconvert_exporter": "python",
   "pygments_lexer": "ipython3",
   "version": "3.12.2"
  }
 },
 "nbformat": 4,
 "nbformat_minor": 5
}
