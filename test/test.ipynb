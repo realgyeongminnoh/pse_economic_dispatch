{
 "cells": [
  {
   "cell_type": "code",
   "execution_count": 1,
   "id": "50dd21fa",
   "metadata": {},
   "outputs": [],
   "source": [
    "import numpy as np\n",
    "import cvxpy as cp\n",
    "\n",
    "import matplotlib.pyplot as plt\n",
    "from time import perf_counter as timer"
   ]
  },
  {
   "cell_type": "code",
   "execution_count": 4,
   "id": "acb44076",
   "metadata": {},
   "outputs": [
    {
     "name": "stdout",
     "output_type": "stream",
     "text": [
      "0.005021646618843079\n",
      "[200. 220. 180.]\n",
      "30.0\n",
      "12560.0\n"
     ]
    }
   ],
   "source": [
    "t1 = timer()\n",
    "\n",
    "p = cp.Variable(3)\n",
    "\n",
    "coeffs_quad = np.full(3, 0.05)\n",
    "coeffs_lin = np.array([10, 8, 12])\n",
    "coeffs_const = np.array([300, 200, 100])\n",
    "\n",
    "objective = cp.Minimize(cp.sum(cp.multiply(coeffs_quad, cp.square(p)) + cp.multiply(coeffs_lin, p)))\n",
    "\n",
    "constraints = [\n",
    "    p >= 0,\n",
    "    p <= np.array([250, 250, 200]),\n",
    "   cp.sum(p) == 600\n",
    "]\n",
    "\n",
    "problem = cp.Problem(objective, constraints)\n",
    "problem.solve(solver=cp.OSQP)\n",
    "\n",
    "t2 = timer(); print(t2 - t1)\n",
    "\n",
    "print(p.value) # power output per generator\n",
    "print(-constraints[-1].dual_value) # SMP\n",
    "print(np.sum(coeffs_quad * p.value**2 + coeffs_lin * p.value + coeffs_const)) # total cost"
   ]
  }
 ],
 "metadata": {
  "kernelspec": {
   "display_name": "base",
   "language": "python",
   "name": "python3"
  },
  "language_info": {
   "codemirror_mode": {
    "name": "ipython",
    "version": 3
   },
   "file_extension": ".py",
   "mimetype": "text/x-python",
   "name": "python",
   "nbconvert_exporter": "python",
   "pygments_lexer": "ipython3",
   "version": "3.12.2"
  }
 },
 "nbformat": 4,
 "nbformat_minor": 5
}
