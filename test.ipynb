{
 "cells": [
  {
   "cell_type": "code",
   "execution_count": null,
   "id": "897d79c6",
   "metadata": {},
   "outputs": [],
   "source": [
    "import os\n",
    "import sys\n",
    "import csv\n",
    "import pickle\n",
    "import numpy as np\n",
    "import gurobipy as gp\n",
    "import matplotlib.pyplot as plt\n",
    "from pathlib import Path\n",
    "from scipy.io import loadmat\n",
    "from time import perf_counter as timer\n",
    "from concurrent.futures import ProcessPoolExecutor\n",
    "from src import *"
   ]
  },
  {
   "cell_type": "code",
   "execution_count": null,
   "id": "6f89ea0c",
   "metadata": {},
   "outputs": [],
   "source": [
    "data = Data()\n",
    "\n",
    "thermal = Thermal()\n",
    "data.load_thermal(thermal)\n",
    "\n",
    "renewable = Renewable()\n",
    "data.load_renewable_capacity(renewable)\n",
    "data.load_renewable_generation(renewable)\n",
    "\n",
    "demand = Demand()\n",
    "data.load_demand(demand)\n",
    "\n",
    "commitment = Commitment()\n",
    "data.load_commitment_decision(commitment)\n",
    "\n",
    "results = Results(thermal, renewable, commitment)"
   ]
  },
  {
   "cell_type": "code",
   "execution_count": null,
   "id": "3a054066",
   "metadata": {},
   "outputs": [],
   "source": [
    "def parallel(idx_hour):\n",
    "    solver = Solver(thermal, renewable, demand, commitment, results)\n",
    "    solver.solve(idx_hour)"
   ]
  },
  {
   "cell_type": "code",
   "execution_count": null,
   "id": "f1d9797e",
   "metadata": {},
   "outputs": [],
   "source": [
    "with ProcessPoolExecutor(max_workers=os.cpu_count()) as executor:\n",
    "    list(executor.map(parallel, range(8760)))\n",
    "results.process_outputs()"
   ]
  },
  {
   "cell_type": "code",
   "execution_count": null,
   "id": "2a65cca6",
   "metadata": {},
   "outputs": [],
   "source": []
  },
  {
   "cell_type": "code",
   "execution_count": null,
   "id": "204cdd66",
   "metadata": {},
   "outputs": [],
   "source": []
  },
  {
   "cell_type": "code",
   "execution_count": null,
   "id": "9e5dd35f",
   "metadata": {},
   "outputs": [],
   "source": []
  },
  {
   "cell_type": "code",
   "execution_count": null,
   "id": "f4933bdb",
   "metadata": {},
   "outputs": [],
   "source": []
  },
  {
   "cell_type": "code",
   "execution_count": null,
   "id": "677239b7",
   "metadata": {},
   "outputs": [],
   "source": [
    "# # sanity check\n",
    "# # sequential\n",
    "# for idx_hour in range(8760):\n",
    "#     solver.solve(idx_hour)\n",
    "\n",
    "# results.process_outputs()\n",
    "\n",
    "# with open(\"sequential_results.pkl\", \"wb\") as f:\n",
    "#     pickle.dump(results, f)\n",
    "\n",
    "# # parallel\n",
    "# def parallel(idx_hour):\n",
    "#     solver = Solver(thermal, renewable, demand, commitment, results)\n",
    "#     solver.solve(idx_hour)\n",
    "\n",
    "# with ProcessPoolExecutor(max_workers=20) as executor:\n",
    "#     list(executor.map(parallel, range(8760)))\n",
    "\n",
    "# results.process_outputs()\n",
    "\n",
    "# with open(\"parallel_results.pkl\", \"wb\") as f:\n",
    "#     pickle.dump(results, f)\n",
    "\n",
    "# with open(\"sequential_results.pkl\", \"rb\") as f:\n",
    "#     sequential_results = pickle.load(f)\n",
    "\n",
    "# with open(\"parallel_results.pkl\", \"rb\") as f:\n",
    "#     parallel_results = pickle.load(f)\n",
    "\n",
    "# print(np.all(np.array([np.all(results.smp == parallel_results.smp), np.all(results.cost_system == parallel_results.cost_system), np.all(results.p_thermal == parallel_results.p_thermal), np.all(results.p_solar == parallel_results.p_solar), np.all(results.p_wind == parallel_results.p_wind), np.all(results.p_hydro == parallel_results.p_hydro)])))\n",
    "# print(np.all(np.array([np.all(results.smp == sequential_results.smp), np.all(results.cost_system == sequential_results.cost_system), np.all(results.p_thermal == sequential_results.p_thermal), np.all(results.p_solar == sequential_results.p_solar), np.all(results.p_wind == sequential_results.p_wind), np.all(results.p_hydro == sequential_results.p_hydro)])))\n",
    "# print(np.all(np.array([np.all(parallel_results.smp == sequential_results.smp), np.all(parallel_results.cost_system == sequential_results.cost_system), np.all(parallel_results.p_thermal == sequential_results.p_thermal), np.all(parallel_results.p_solar == sequential_results.p_solar), np.all(parallel_results.p_wind == sequential_results.p_wind), np.all(parallel_results.p_hydro == sequential_results.p_hydro)])))"
   ]
  },
  {
   "cell_type": "code",
   "execution_count": null,
   "id": "c3514445",
   "metadata": {},
   "outputs": [],
   "source": []
  },
  {
   "cell_type": "code",
   "execution_count": null,
   "id": "6480b2be",
   "metadata": {},
   "outputs": [],
   "source": []
  },
  {
   "cell_type": "code",
   "execution_count": null,
   "id": "4b6c04ee",
   "metadata": {},
   "outputs": [],
   "source": [
    "# fig, axes = plt.subplots(3, 1, figsize=(30, 30))\n",
    "\n",
    "# for ax, name, reg_generation, reg_result in zip(\n",
    "#     axes,\n",
    "#     [\"solar\", \"wind\", \"hydro\"],\n",
    "#     [renewable.solar_generation, renewable.wind_generation, renewable.hydro_generation],\n",
    "#     [p_solar, p_wind, p_hydro]\n",
    "# ):\n",
    "        \n",
    "\n",
    "#     idx_nonzero_reg = np.where(reg_generation[idx_hour] > 0 )[0]\n",
    "\n",
    "#     # original reg\n",
    "#     ax.bar(\n",
    "#         range(len(idx_nonzero_reg)),\n",
    "#         reg_generation[idx_hour][idx_nonzero_reg],\n",
    "#         label=\"Original REG Amount (Derived from KPG193)\",\n",
    "#     )\n",
    "\n",
    "#     # curtailed reg\n",
    "#     ax.scatter(\n",
    "#         range(len(idx_nonzero_reg)),\n",
    "#         np.array(model.getAttr(\"X\", reg_result.values()))[idx_nonzero_reg],\n",
    "#         # facecolor=None, edgecolor=\"red\", \n",
    "#         color=\"red\", marker=\"x\",\n",
    "#         label=\"Curtailed REG Amount (Result of ED)\",\n",
    "#     )\n",
    "\n",
    "#     ymax = ax.get_ylim()[1]\n",
    "\n",
    "#     # curtailed reg marker\n",
    "#     ax.vlines(\n",
    "#         x=np.where(reg_generation[idx_hour][idx_nonzero_reg] > np.array(model.getAttr(\"X\", reg_result.values()))[idx_nonzero_reg])[0],\n",
    "#         ymin=0, ymax=ymax,\n",
    "#         colors=\"red\", linestyles=\"--\",\n",
    "#         label=\"Is this 'originally producing' REG bus curtailed?\",\n",
    "#     )\n",
    "\n",
    "#     ax.set_ylim((0, ymax))\n",
    "#     ax.set_xlim((-0.5, len(idx_nonzero_reg) - 0.5))\n",
    "#     ax.set_title(f\"Inspection of {name} Buses with (Originally) Nonzero Production\\nhour in year = {idx_hour}\\n(originallly infeasible without curtailment)\", fontsize=15)\n",
    "#     ax.set_xlabel(f\"Nonzero generation {name} buses (not bus id)\", fontsize=15)\n",
    "#     ax.set_ylabel(\"Power generation (MWh)\", fontsize=15)\n",
    "#     ax.legend()\n",
    "\n",
    "# plt.show(fig)"
   ]
  }
 ],
 "metadata": {
  "kernelspec": {
   "display_name": "base",
   "language": "python",
   "name": "python3"
  },
  "language_info": {
   "codemirror_mode": {
    "name": "ipython",
    "version": 3
   },
   "file_extension": ".py",
   "mimetype": "text/x-python",
   "name": "python",
   "nbconvert_exporter": "python",
   "pygments_lexer": "ipython3",
   "version": "3.12.2"
  }
 },
 "nbformat": 4,
 "nbformat_minor": 5
}
